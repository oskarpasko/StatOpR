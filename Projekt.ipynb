{
  "nbformat": 4,
  "nbformat_minor": 0,
  "metadata": {
    "colab": {
      "provenance": [],
      "toc_visible": true,
      "include_colab_link": true
    },
    "kernelspec": {
      "name": "ir",
      "display_name": "R"
    },
    "language_info": {
      "name": "R"
    }
  },
  "cells": [
    {
      "cell_type": "markdown",
      "metadata": {
        "id": "view-in-github",
        "colab_type": "text"
      },
      "source": [
        "<a href=\"https://colab.research.google.com/github/oskarpasko/StatOpR/blob/main/Projekt.ipynb\" target=\"_parent\"><img src=\"https://colab.research.google.com/assets/colab-badge.svg\" alt=\"Open In Colab\"/></a>"
      ]
    },
    {
      "cell_type": "markdown",
      "source": [
        "# Projekt StatOpR"
      ],
      "metadata": {
        "id": "6ViT-9uUAIK3"
      }
    },
    {
      "cell_type": "code",
      "execution_count": null,
      "metadata": {
        "id": "ypmLJtEn6g6s"
      },
      "outputs": [],
      "source": [
        "library(readxl)"
      ]
    },
    {
      "cell_type": "markdown",
      "source": [
        "## Wczytanie danych"
      ],
      "metadata": {
        "id": "ARMlMXDjAF4D"
      }
    },
    {
      "cell_type": "code",
      "source": [
        "dane <- read_excel(\"Dane.xlsx\")"
      ],
      "metadata": {
        "id": "4KvjVqbS7dxc"
      },
      "execution_count": null,
      "outputs": []
    },
    {
      "cell_type": "code",
      "source": [
        "dane"
      ],
      "metadata": {
        "colab": {
          "base_uri": "https://localhost:8080/",
          "height": 1000
        },
        "id": "XPYRjPN87yRi",
        "outputId": "bae42a78-35f5-4557-dc54-4d1025b4ce61"
      },
      "execution_count": null,
      "outputs": [
        {
          "output_type": "display_data",
          "data": {
            "text/html": [
              "<table class=\"dataframe\">\n",
              "<caption>A tibble: 73 × 2</caption>\n",
              "<thead>\n",
              "\t<tr><th scope=col>Nr pomiaru</th><th scope=col>Długość</th></tr>\n",
              "\t<tr><th scope=col>&lt;dbl&gt;</th><th scope=col>&lt;chr&gt;</th></tr>\n",
              "</thead>\n",
              "<tbody>\n",
              "\t<tr><td> 1</td><td>20.45</td></tr>\n",
              "\t<tr><td> 2</td><td>20.81</td></tr>\n",
              "\t<tr><td> 3</td><td>21.19</td></tr>\n",
              "\t<tr><td> 4</td><td>21.51</td></tr>\n",
              "\t<tr><td> 5</td><td>21.21</td></tr>\n",
              "\t<tr><td> 6</td><td>21.41</td></tr>\n",
              "\t<tr><td> 7</td><td>21.40</td></tr>\n",
              "\t<tr><td> 8</td><td>21.35</td></tr>\n",
              "\t<tr><td> 9</td><td>21.50</td></tr>\n",
              "\t<tr><td>10</td><td>21.25</td></tr>\n",
              "\t<tr><td>11</td><td>21.25</td></tr>\n",
              "\t<tr><td>12</td><td>21.38</td></tr>\n",
              "\t<tr><td>13</td><td>21.31</td></tr>\n",
              "\t<tr><td>14</td><td>21.48</td></tr>\n",
              "\t<tr><td>15</td><td>21.50</td></tr>\n",
              "\t<tr><td>16</td><td>21.51</td></tr>\n",
              "\t<tr><td>17</td><td>21.60</td></tr>\n",
              "\t<tr><td>18</td><td>21.47</td></tr>\n",
              "\t<tr><td>19</td><td>21.49</td></tr>\n",
              "\t<tr><td>20</td><td>21.48</td></tr>\n",
              "\t<tr><td>21</td><td>21.50</td></tr>\n",
              "\t<tr><td>22</td><td>21.42</td></tr>\n",
              "\t<tr><td>23</td><td>21.45</td></tr>\n",
              "\t<tr><td>24</td><td>21.31</td></tr>\n",
              "\t<tr><td>25</td><td>21.50</td></tr>\n",
              "\t<tr><td>26</td><td>21.50</td></tr>\n",
              "\t<tr><td>27</td><td>21.52</td></tr>\n",
              "\t<tr><td>28</td><td>21.73</td></tr>\n",
              "\t<tr><td>29</td><td>21.62</td></tr>\n",
              "\t<tr><td>30</td><td>21.69</td></tr>\n",
              "\t<tr><td>⋮</td><td>⋮</td></tr>\n",
              "\t<tr><td>44</td><td>21.80</td></tr>\n",
              "\t<tr><td>45</td><td>21.68</td></tr>\n",
              "\t<tr><td>46</td><td>21.80</td></tr>\n",
              "\t<tr><td>47</td><td>21.70</td></tr>\n",
              "\t<tr><td>48</td><td>21.71</td></tr>\n",
              "\t<tr><td>49</td><td>21.82</td></tr>\n",
              "\t<tr><td>50</td><td>21.71</td></tr>\n",
              "\t<tr><td>51</td><td>21.83</td></tr>\n",
              "\t<tr><td>52</td><td>21.65</td></tr>\n",
              "\t<tr><td>53</td><td>21.62</td></tr>\n",
              "\t<tr><td>54</td><td>21.58</td></tr>\n",
              "\t<tr><td>55</td><td>21.51</td></tr>\n",
              "\t<tr><td>56</td><td>21.55</td></tr>\n",
              "\t<tr><td>57</td><td>21.60</td></tr>\n",
              "\t<tr><td>58</td><td>21.62</td></tr>\n",
              "\t<tr><td>59</td><td>21.65</td></tr>\n",
              "\t<tr><td>60</td><td>21.45</td></tr>\n",
              "\t<tr><td>61</td><td>21.70</td></tr>\n",
              "\t<tr><td>62</td><td>21.95</td></tr>\n",
              "\t<tr><td>63</td><td>22.13</td></tr>\n",
              "\t<tr><td>64</td><td>21.85</td></tr>\n",
              "\t<tr><td>65</td><td>22.95</td></tr>\n",
              "\t<tr><td>66</td><td>22.13</td></tr>\n",
              "\t<tr><td>67</td><td>22.00</td></tr>\n",
              "\t<tr><td>68</td><td>21.83</td></tr>\n",
              "\t<tr><td>69</td><td>21.82</td></tr>\n",
              "\t<tr><td>70</td><td>21.95</td></tr>\n",
              "\t<tr><td>71</td><td>21.75</td></tr>\n",
              "\t<tr><td>72</td><td>21.80</td></tr>\n",
              "\t<tr><td>73</td><td>21.75</td></tr>\n",
              "</tbody>\n",
              "</table>\n"
            ],
            "text/markdown": "\nA tibble: 73 × 2\n\n| Nr pomiaru &lt;dbl&gt; | Długość &lt;chr&gt; |\n|---|---|\n|  1 | 20.45 |\n|  2 | 20.81 |\n|  3 | 21.19 |\n|  4 | 21.51 |\n|  5 | 21.21 |\n|  6 | 21.41 |\n|  7 | 21.40 |\n|  8 | 21.35 |\n|  9 | 21.50 |\n| 10 | 21.25 |\n| 11 | 21.25 |\n| 12 | 21.38 |\n| 13 | 21.31 |\n| 14 | 21.48 |\n| 15 | 21.50 |\n| 16 | 21.51 |\n| 17 | 21.60 |\n| 18 | 21.47 |\n| 19 | 21.49 |\n| 20 | 21.48 |\n| 21 | 21.50 |\n| 22 | 21.42 |\n| 23 | 21.45 |\n| 24 | 21.31 |\n| 25 | 21.50 |\n| 26 | 21.50 |\n| 27 | 21.52 |\n| 28 | 21.73 |\n| 29 | 21.62 |\n| 30 | 21.69 |\n| ⋮ | ⋮ |\n| 44 | 21.80 |\n| 45 | 21.68 |\n| 46 | 21.80 |\n| 47 | 21.70 |\n| 48 | 21.71 |\n| 49 | 21.82 |\n| 50 | 21.71 |\n| 51 | 21.83 |\n| 52 | 21.65 |\n| 53 | 21.62 |\n| 54 | 21.58 |\n| 55 | 21.51 |\n| 56 | 21.55 |\n| 57 | 21.60 |\n| 58 | 21.62 |\n| 59 | 21.65 |\n| 60 | 21.45 |\n| 61 | 21.70 |\n| 62 | 21.95 |\n| 63 | 22.13 |\n| 64 | 21.85 |\n| 65 | 22.95 |\n| 66 | 22.13 |\n| 67 | 22.00 |\n| 68 | 21.83 |\n| 69 | 21.82 |\n| 70 | 21.95 |\n| 71 | 21.75 |\n| 72 | 21.80 |\n| 73 | 21.75 |\n\n",
            "text/latex": "A tibble: 73 × 2\n\\begin{tabular}{ll}\n Nr pomiaru & Długość\\\\\n <dbl> & <chr>\\\\\n\\hline\n\t  1 & 20.45\\\\\n\t  2 & 20.81\\\\\n\t  3 & 21.19\\\\\n\t  4 & 21.51\\\\\n\t  5 & 21.21\\\\\n\t  6 & 21.41\\\\\n\t  7 & 21.40\\\\\n\t  8 & 21.35\\\\\n\t  9 & 21.50\\\\\n\t 10 & 21.25\\\\\n\t 11 & 21.25\\\\\n\t 12 & 21.38\\\\\n\t 13 & 21.31\\\\\n\t 14 & 21.48\\\\\n\t 15 & 21.50\\\\\n\t 16 & 21.51\\\\\n\t 17 & 21.60\\\\\n\t 18 & 21.47\\\\\n\t 19 & 21.49\\\\\n\t 20 & 21.48\\\\\n\t 21 & 21.50\\\\\n\t 22 & 21.42\\\\\n\t 23 & 21.45\\\\\n\t 24 & 21.31\\\\\n\t 25 & 21.50\\\\\n\t 26 & 21.50\\\\\n\t 27 & 21.52\\\\\n\t 28 & 21.73\\\\\n\t 29 & 21.62\\\\\n\t 30 & 21.69\\\\\n\t ⋮ & ⋮\\\\\n\t 44 & 21.80\\\\\n\t 45 & 21.68\\\\\n\t 46 & 21.80\\\\\n\t 47 & 21.70\\\\\n\t 48 & 21.71\\\\\n\t 49 & 21.82\\\\\n\t 50 & 21.71\\\\\n\t 51 & 21.83\\\\\n\t 52 & 21.65\\\\\n\t 53 & 21.62\\\\\n\t 54 & 21.58\\\\\n\t 55 & 21.51\\\\\n\t 56 & 21.55\\\\\n\t 57 & 21.60\\\\\n\t 58 & 21.62\\\\\n\t 59 & 21.65\\\\\n\t 60 & 21.45\\\\\n\t 61 & 21.70\\\\\n\t 62 & 21.95\\\\\n\t 63 & 22.13\\\\\n\t 64 & 21.85\\\\\n\t 65 & 22.95\\\\\n\t 66 & 22.13\\\\\n\t 67 & 22.00\\\\\n\t 68 & 21.83\\\\\n\t 69 & 21.82\\\\\n\t 70 & 21.95\\\\\n\t 71 & 21.75\\\\\n\t 72 & 21.80\\\\\n\t 73 & 21.75\\\\\n\\end{tabular}\n",
            "text/plain": [
              "   Nr pomiaru Długość\n",
              "1   1         20.45  \n",
              "2   2         20.81  \n",
              "3   3         21.19  \n",
              "4   4         21.51  \n",
              "5   5         21.21  \n",
              "6   6         21.41  \n",
              "7   7         21.40  \n",
              "8   8         21.35  \n",
              "9   9         21.50  \n",
              "10 10         21.25  \n",
              "11 11         21.25  \n",
              "12 12         21.38  \n",
              "13 13         21.31  \n",
              "14 14         21.48  \n",
              "15 15         21.50  \n",
              "16 16         21.51  \n",
              "17 17         21.60  \n",
              "18 18         21.47  \n",
              "19 19         21.49  \n",
              "20 20         21.48  \n",
              "21 21         21.50  \n",
              "22 22         21.42  \n",
              "23 23         21.45  \n",
              "24 24         21.31  \n",
              "25 25         21.50  \n",
              "26 26         21.50  \n",
              "27 27         21.52  \n",
              "28 28         21.73  \n",
              "29 29         21.62  \n",
              "30 30         21.69  \n",
              "⋮  ⋮          ⋮      \n",
              "44 44         21.80  \n",
              "45 45         21.68  \n",
              "46 46         21.80  \n",
              "47 47         21.70  \n",
              "48 48         21.71  \n",
              "49 49         21.82  \n",
              "50 50         21.71  \n",
              "51 51         21.83  \n",
              "52 52         21.65  \n",
              "53 53         21.62  \n",
              "54 54         21.58  \n",
              "55 55         21.51  \n",
              "56 56         21.55  \n",
              "57 57         21.60  \n",
              "58 58         21.62  \n",
              "59 59         21.65  \n",
              "60 60         21.45  \n",
              "61 61         21.70  \n",
              "62 62         21.95  \n",
              "63 63         22.13  \n",
              "64 64         21.85  \n",
              "65 65         22.95  \n",
              "66 66         22.13  \n",
              "67 67         22.00  \n",
              "68 68         21.83  \n",
              "69 69         21.82  \n",
              "70 70         21.95  \n",
              "71 71         21.75  \n",
              "72 72         21.80  \n",
              "73 73         21.75  "
            ]
          },
          "metadata": {}
        }
      ]
    },
    {
      "cell_type": "markdown",
      "source": [
        "## Zadanie 2"
      ],
      "metadata": {
        "id": "HO6jNR_gAOl1"
      }
    },
    {
      "cell_type": "code",
      "source": [
        "rozstep <- range(dane$wartosc_pomiaru)\n",
        "srednia <- mean(dane$wartosc_pomiaru)\n",
        "odchylenie_standardowe <- sd(dane$wartosc_pomiaru)"
      ],
      "metadata": {
        "id": "JQBFoMauQdIE"
      },
      "execution_count": null,
      "outputs": []
    },
    {
      "cell_type": "markdown",
      "source": [
        "rozstep\n",
        "srednia\n",
        "odchylenie_standardowe"
      ],
      "metadata": {
        "id": "TIPGdCNwQgx7"
      }
    },
    {
      "cell_type": "markdown",
      "source": [
        "## Zadanie 3"
      ],
      "metadata": {
        "id": "_2Wxa9E0Qhi_"
      }
    },
    {
      "cell_type": "code",
      "source": [
        "k <- 50\n",
        "h <- rozstep/50\n",
        "szer_rozdz <- cut(dane$wartosc_pomiaru, breaks = \n",
        "  seq(min(dane$wartosc_pomiaru), max(dane$wartosc_pomiaru), by = (max(dane$wartosc_pomiaru) - min(dane$wartosc_pomiaru))/k))"
      ],
      "metadata": {
        "id": "fwP57cDpQmZX"
      },
      "execution_count": null,
      "outputs": []
    },
    {
      "cell_type": "code",
      "source": [
        "szer_rozdz"
      ],
      "metadata": {
        "id": "UoRBJfHTQvQe"
      },
      "execution_count": null,
      "outputs": []
    },
    {
      "cell_type": "markdown",
      "source": [
        "## Zadanie 4"
      ],
      "metadata": {
        "id": "TO3mw7oSQ0DX"
      }
    },
    {
      "cell_type": "code",
      "source": [
        "licznosci_klas <- table(szer_rozdz)"
      ],
      "metadata": {
        "id": "vdgwuesnQ1b0"
      },
      "execution_count": null,
      "outputs": []
    },
    {
      "cell_type": "code",
      "source": [
        "licznosci_klas"
      ],
      "metadata": {
        "id": "bi4uOnC0Q28E"
      },
      "execution_count": null,
      "outputs": []
    },
    {
      "cell_type": "markdown",
      "source": [
        "## Zadanie 5"
      ],
      "metadata": {
        "id": "NZCUz4rxQ5z6"
      }
    },
    {
      "cell_type": "code",
      "source": [
        "barplot(licznosci_klas)\n",
        "hist(dane$wartosc_pomiaru, breaks = k, col = \"gray\", main = \"Histogram\")"
      ],
      "metadata": {
        "id": "heLizvHEQ7oU"
      },
      "execution_count": null,
      "outputs": []
    },
    {
      "cell_type": "markdown",
      "source": [
        "## Zadanie 6"
      ],
      "metadata": {
        "id": "v850hQKJQ-FN"
      }
    },
    {
      "cell_type": "code",
      "source": [
        "shapiro.test(dane$wartosc_pomiaru)"
      ],
      "metadata": {
        "id": "gPdBnwBxQ_RJ"
      },
      "execution_count": null,
      "outputs": []
    },
    {
      "cell_type": "markdown",
      "source": [
        "## Zadanie 7\n"
      ],
      "metadata": {
        "id": "1ydjX2DHRQTM"
      }
    },
    {
      "cell_type": "code",
      "source": [
        "W tym przypadku pochodzącym z prowadzonych pomiarów , p-value jest mniejsze od poziomu istotności (0,05), \n",
        "więc hipoteza zerowa jest odrzucona i możemy stwierdzić, że dane nie pochodzą z rozkładu normalnego."
      ],
      "metadata": {
        "id": "Sl3OQsD9RU0x"
      },
      "execution_count": null,
      "outputs": []
    },
    {
      "cell_type": "markdown",
      "source": [],
      "metadata": {
        "id": "jsmA9fvVQtwg"
      }
    }
  ]
}