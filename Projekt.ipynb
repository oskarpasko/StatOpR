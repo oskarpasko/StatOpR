{
  "nbformat": 4,
  "nbformat_minor": 0,
  "metadata": {
    "colab": {
      "provenance": [],
      "include_colab_link": true
    },
    "kernelspec": {
      "name": "ir",
      "display_name": "R"
    },
    "language_info": {
      "name": "R"
    }
  },
  "cells": [
    {
      "cell_type": "markdown",
      "metadata": {
        "id": "view-in-github",
        "colab_type": "text"
      },
      "source": [
        "<a href=\"https://colab.research.google.com/github/oskarpasko/StatOpR/blob/main/Projekt.ipynb\" target=\"_parent\"><img src=\"https://colab.research.google.com/assets/colab-badge.svg\" alt=\"Open In Colab\"/></a>"
      ]
    },
    {
      "cell_type": "markdown",
      "source": [
        "# Projekt StatOpR"
      ],
      "metadata": {
        "id": "6ViT-9uUAIK3"
      }
    },
    {
      "cell_type": "code",
      "execution_count": 25,
      "metadata": {
        "id": "ypmLJtEn6g6s"
      },
      "outputs": [],
      "source": [
        "library(readxl)"
      ]
    },
    {
      "cell_type": "markdown",
      "source": [
        "## Wczytanie danych"
      ],
      "metadata": {
        "id": "ARMlMXDjAF4D"
      }
    },
    {
      "cell_type": "code",
      "source": [
        "dane <- read_excel(\"Dane.xlsx\")"
      ],
      "metadata": {
        "id": "4KvjVqbS7dxc"
      },
      "execution_count": 26,
      "outputs": []
    },
    {
      "cell_type": "code",
      "source": [
        "dane"
      ],
      "metadata": {
        "colab": {
          "base_uri": "https://localhost:8080/",
          "height": 1000
        },
        "id": "XPYRjPN87yRi",
        "outputId": "1c9afcef-a7a8-462b-8ab3-de2c45af783a"
      },
      "execution_count": 27,
      "outputs": [
        {
          "output_type": "display_data",
          "data": {
            "text/html": [
              "<table class=\"dataframe\">\n",
              "<caption>A tibble: 73 × 2</caption>\n",
              "<thead>\n",
              "\t<tr><th scope=col>Nr pomiaru</th><th scope=col>Długość</th></tr>\n",
              "\t<tr><th scope=col>&lt;dbl&gt;</th><th scope=col>&lt;dbl&gt;</th></tr>\n",
              "</thead>\n",
              "<tbody>\n",
              "\t<tr><td> 1</td><td>20.45</td></tr>\n",
              "\t<tr><td> 2</td><td>20.81</td></tr>\n",
              "\t<tr><td> 3</td><td>21.19</td></tr>\n",
              "\t<tr><td> 4</td><td>21.51</td></tr>\n",
              "\t<tr><td> 5</td><td>21.21</td></tr>\n",
              "\t<tr><td> 6</td><td>21.41</td></tr>\n",
              "\t<tr><td> 7</td><td>21.40</td></tr>\n",
              "\t<tr><td> 8</td><td>21.35</td></tr>\n",
              "\t<tr><td> 9</td><td>21.50</td></tr>\n",
              "\t<tr><td>10</td><td>21.25</td></tr>\n",
              "\t<tr><td>11</td><td>21.25</td></tr>\n",
              "\t<tr><td>12</td><td>21.38</td></tr>\n",
              "\t<tr><td>13</td><td>21.31</td></tr>\n",
              "\t<tr><td>14</td><td>21.48</td></tr>\n",
              "\t<tr><td>15</td><td>21.50</td></tr>\n",
              "\t<tr><td>16</td><td>21.51</td></tr>\n",
              "\t<tr><td>17</td><td>21.60</td></tr>\n",
              "\t<tr><td>18</td><td>21.47</td></tr>\n",
              "\t<tr><td>19</td><td>21.49</td></tr>\n",
              "\t<tr><td>20</td><td>21.48</td></tr>\n",
              "\t<tr><td>21</td><td>21.50</td></tr>\n",
              "\t<tr><td>22</td><td>21.42</td></tr>\n",
              "\t<tr><td>23</td><td>21.45</td></tr>\n",
              "\t<tr><td>24</td><td>21.31</td></tr>\n",
              "\t<tr><td>25</td><td>21.50</td></tr>\n",
              "\t<tr><td>26</td><td>21.50</td></tr>\n",
              "\t<tr><td>27</td><td>21.52</td></tr>\n",
              "\t<tr><td>28</td><td>21.73</td></tr>\n",
              "\t<tr><td>29</td><td>21.62</td></tr>\n",
              "\t<tr><td>30</td><td>21.69</td></tr>\n",
              "\t<tr><td>⋮</td><td>⋮</td></tr>\n",
              "\t<tr><td>44</td><td>21.80</td></tr>\n",
              "\t<tr><td>45</td><td>21.68</td></tr>\n",
              "\t<tr><td>46</td><td>21.80</td></tr>\n",
              "\t<tr><td>47</td><td>21.70</td></tr>\n",
              "\t<tr><td>48</td><td>21.71</td></tr>\n",
              "\t<tr><td>49</td><td>21.82</td></tr>\n",
              "\t<tr><td>50</td><td>21.71</td></tr>\n",
              "\t<tr><td>51</td><td>21.83</td></tr>\n",
              "\t<tr><td>52</td><td>21.65</td></tr>\n",
              "\t<tr><td>53</td><td>21.62</td></tr>\n",
              "\t<tr><td>54</td><td>21.58</td></tr>\n",
              "\t<tr><td>55</td><td>21.51</td></tr>\n",
              "\t<tr><td>56</td><td>21.55</td></tr>\n",
              "\t<tr><td>57</td><td>21.60</td></tr>\n",
              "\t<tr><td>58</td><td>21.62</td></tr>\n",
              "\t<tr><td>59</td><td>21.65</td></tr>\n",
              "\t<tr><td>60</td><td>21.45</td></tr>\n",
              "\t<tr><td>61</td><td>21.70</td></tr>\n",
              "\t<tr><td>62</td><td>21.95</td></tr>\n",
              "\t<tr><td>63</td><td>22.13</td></tr>\n",
              "\t<tr><td>64</td><td>21.85</td></tr>\n",
              "\t<tr><td>65</td><td>22.95</td></tr>\n",
              "\t<tr><td>66</td><td>22.13</td></tr>\n",
              "\t<tr><td>67</td><td>22.00</td></tr>\n",
              "\t<tr><td>68</td><td>21.83</td></tr>\n",
              "\t<tr><td>69</td><td>21.82</td></tr>\n",
              "\t<tr><td>70</td><td>21.95</td></tr>\n",
              "\t<tr><td>71</td><td>21.75</td></tr>\n",
              "\t<tr><td>72</td><td>21.80</td></tr>\n",
              "\t<tr><td>73</td><td>21.75</td></tr>\n",
              "</tbody>\n",
              "</table>\n"
            ],
            "text/markdown": "\nA tibble: 73 × 2\n\n| Nr pomiaru &lt;dbl&gt; | Długość &lt;dbl&gt; |\n|---|---|\n|  1 | 20.45 |\n|  2 | 20.81 |\n|  3 | 21.19 |\n|  4 | 21.51 |\n|  5 | 21.21 |\n|  6 | 21.41 |\n|  7 | 21.40 |\n|  8 | 21.35 |\n|  9 | 21.50 |\n| 10 | 21.25 |\n| 11 | 21.25 |\n| 12 | 21.38 |\n| 13 | 21.31 |\n| 14 | 21.48 |\n| 15 | 21.50 |\n| 16 | 21.51 |\n| 17 | 21.60 |\n| 18 | 21.47 |\n| 19 | 21.49 |\n| 20 | 21.48 |\n| 21 | 21.50 |\n| 22 | 21.42 |\n| 23 | 21.45 |\n| 24 | 21.31 |\n| 25 | 21.50 |\n| 26 | 21.50 |\n| 27 | 21.52 |\n| 28 | 21.73 |\n| 29 | 21.62 |\n| 30 | 21.69 |\n| ⋮ | ⋮ |\n| 44 | 21.80 |\n| 45 | 21.68 |\n| 46 | 21.80 |\n| 47 | 21.70 |\n| 48 | 21.71 |\n| 49 | 21.82 |\n| 50 | 21.71 |\n| 51 | 21.83 |\n| 52 | 21.65 |\n| 53 | 21.62 |\n| 54 | 21.58 |\n| 55 | 21.51 |\n| 56 | 21.55 |\n| 57 | 21.60 |\n| 58 | 21.62 |\n| 59 | 21.65 |\n| 60 | 21.45 |\n| 61 | 21.70 |\n| 62 | 21.95 |\n| 63 | 22.13 |\n| 64 | 21.85 |\n| 65 | 22.95 |\n| 66 | 22.13 |\n| 67 | 22.00 |\n| 68 | 21.83 |\n| 69 | 21.82 |\n| 70 | 21.95 |\n| 71 | 21.75 |\n| 72 | 21.80 |\n| 73 | 21.75 |\n\n",
            "text/latex": "A tibble: 73 × 2\n\\begin{tabular}{ll}\n Nr pomiaru & Długość\\\\\n <dbl> & <dbl>\\\\\n\\hline\n\t  1 & 20.45\\\\\n\t  2 & 20.81\\\\\n\t  3 & 21.19\\\\\n\t  4 & 21.51\\\\\n\t  5 & 21.21\\\\\n\t  6 & 21.41\\\\\n\t  7 & 21.40\\\\\n\t  8 & 21.35\\\\\n\t  9 & 21.50\\\\\n\t 10 & 21.25\\\\\n\t 11 & 21.25\\\\\n\t 12 & 21.38\\\\\n\t 13 & 21.31\\\\\n\t 14 & 21.48\\\\\n\t 15 & 21.50\\\\\n\t 16 & 21.51\\\\\n\t 17 & 21.60\\\\\n\t 18 & 21.47\\\\\n\t 19 & 21.49\\\\\n\t 20 & 21.48\\\\\n\t 21 & 21.50\\\\\n\t 22 & 21.42\\\\\n\t 23 & 21.45\\\\\n\t 24 & 21.31\\\\\n\t 25 & 21.50\\\\\n\t 26 & 21.50\\\\\n\t 27 & 21.52\\\\\n\t 28 & 21.73\\\\\n\t 29 & 21.62\\\\\n\t 30 & 21.69\\\\\n\t ⋮ & ⋮\\\\\n\t 44 & 21.80\\\\\n\t 45 & 21.68\\\\\n\t 46 & 21.80\\\\\n\t 47 & 21.70\\\\\n\t 48 & 21.71\\\\\n\t 49 & 21.82\\\\\n\t 50 & 21.71\\\\\n\t 51 & 21.83\\\\\n\t 52 & 21.65\\\\\n\t 53 & 21.62\\\\\n\t 54 & 21.58\\\\\n\t 55 & 21.51\\\\\n\t 56 & 21.55\\\\\n\t 57 & 21.60\\\\\n\t 58 & 21.62\\\\\n\t 59 & 21.65\\\\\n\t 60 & 21.45\\\\\n\t 61 & 21.70\\\\\n\t 62 & 21.95\\\\\n\t 63 & 22.13\\\\\n\t 64 & 21.85\\\\\n\t 65 & 22.95\\\\\n\t 66 & 22.13\\\\\n\t 67 & 22.00\\\\\n\t 68 & 21.83\\\\\n\t 69 & 21.82\\\\\n\t 70 & 21.95\\\\\n\t 71 & 21.75\\\\\n\t 72 & 21.80\\\\\n\t 73 & 21.75\\\\\n\\end{tabular}\n",
            "text/plain": [
              "   Nr pomiaru Długość\n",
              "1   1         20.45  \n",
              "2   2         20.81  \n",
              "3   3         21.19  \n",
              "4   4         21.51  \n",
              "5   5         21.21  \n",
              "6   6         21.41  \n",
              "7   7         21.40  \n",
              "8   8         21.35  \n",
              "9   9         21.50  \n",
              "10 10         21.25  \n",
              "11 11         21.25  \n",
              "12 12         21.38  \n",
              "13 13         21.31  \n",
              "14 14         21.48  \n",
              "15 15         21.50  \n",
              "16 16         21.51  \n",
              "17 17         21.60  \n",
              "18 18         21.47  \n",
              "19 19         21.49  \n",
              "20 20         21.48  \n",
              "21 21         21.50  \n",
              "22 22         21.42  \n",
              "23 23         21.45  \n",
              "24 24         21.31  \n",
              "25 25         21.50  \n",
              "26 26         21.50  \n",
              "27 27         21.52  \n",
              "28 28         21.73  \n",
              "29 29         21.62  \n",
              "30 30         21.69  \n",
              "⋮  ⋮          ⋮      \n",
              "44 44         21.80  \n",
              "45 45         21.68  \n",
              "46 46         21.80  \n",
              "47 47         21.70  \n",
              "48 48         21.71  \n",
              "49 49         21.82  \n",
              "50 50         21.71  \n",
              "51 51         21.83  \n",
              "52 52         21.65  \n",
              "53 53         21.62  \n",
              "54 54         21.58  \n",
              "55 55         21.51  \n",
              "56 56         21.55  \n",
              "57 57         21.60  \n",
              "58 58         21.62  \n",
              "59 59         21.65  \n",
              "60 60         21.45  \n",
              "61 61         21.70  \n",
              "62 62         21.95  \n",
              "63 63         22.13  \n",
              "64 64         21.85  \n",
              "65 65         22.95  \n",
              "66 66         22.13  \n",
              "67 67         22.00  \n",
              "68 68         21.83  \n",
              "69 69         21.82  \n",
              "70 70         21.95  \n",
              "71 71         21.75  \n",
              "72 72         21.80  \n",
              "73 73         21.75  "
            ]
          },
          "metadata": {}
        }
      ]
    },
    {
      "cell_type": "markdown",
      "source": [
        "## Zadanie 2"
      ],
      "metadata": {
        "id": "HO6jNR_gAOl1"
      }
    },
    {
      "cell_type": "code",
      "source": [
        "rozstep <- range(dane$`Długość`)\n",
        "srednia <- mean(dane$`Długość`)\n",
        "odchylenie_standardowe <- sd(dane$`Długość`)"
      ],
      "metadata": {
        "id": "JQBFoMauQdIE"
      },
      "execution_count": 29,
      "outputs": []
    },
    {
      "cell_type": "code",
      "source": [
        "rozstep\n",
        "srednia\n",
        "odchylenie_standardowe"
      ],
      "metadata": {
        "id": "qJEL-zreOdQB",
        "outputId": "46ccdc0d-e458-4c8a-c484-2b886d40b153",
        "colab": {
          "base_uri": "https://localhost:8080/",
          "height": 69
        }
      },
      "execution_count": 39,
      "outputs": [
        {
          "output_type": "display_data",
          "data": {
            "text/html": [
              "<style>\n",
              ".list-inline {list-style: none; margin:0; padding: 0}\n",
              ".list-inline>li {display: inline-block}\n",
              ".list-inline>li:not(:last-child)::after {content: \"\\00b7\"; padding: 0 .5ex}\n",
              "</style>\n",
              "<ol class=list-inline><li>20.45</li><li>22.95</li></ol>\n"
            ],
            "text/markdown": "1. 20.45\n2. 22.95\n\n\n",
            "text/latex": "\\begin{enumerate*}\n\\item 20.45\n\\item 22.95\n\\end{enumerate*}\n",
            "text/plain": [
              "[1] 20.45 22.95"
            ]
          },
          "metadata": {}
        },
        {
          "output_type": "display_data",
          "data": {
            "text/html": [
              "21.616301369863"
            ],
            "text/markdown": "21.616301369863",
            "text/latex": "21.616301369863",
            "text/plain": [
              "[1] 21.6163"
            ]
          },
          "metadata": {}
        },
        {
          "output_type": "display_data",
          "data": {
            "text/html": [
              "0.305657337413588"
            ],
            "text/markdown": "0.305657337413588",
            "text/latex": "0.305657337413588",
            "text/plain": [
              "[1] 0.3056573"
            ]
          },
          "metadata": {}
        }
      ]
    },
    {
      "cell_type": "markdown",
      "source": [
        "rozstep\n",
        "srednia\n",
        "odchylenie_standardowe"
      ],
      "metadata": {
        "id": "TIPGdCNwQgx7"
      }
    },
    {
      "cell_type": "markdown",
      "source": [
        "## Zadanie 3"
      ],
      "metadata": {
        "id": "_2Wxa9E0Qhi_"
      }
    },
    {
      "cell_type": "code",
      "source": [
        "k <- 50\n",
        "h <- rozstep/50\n",
        "szer_rozdz <- cut(dane$`Długość`, breaks = \n",
        "  seq(min(dane$`Długość`), max(dane$`Długość`), by = (max(dane$`Długość`) - min(dane$`Długość`))/k))"
      ],
      "metadata": {
        "id": "fwP57cDpQmZX"
      },
      "execution_count": 30,
      "outputs": []
    },
    {
      "cell_type": "code",
      "source": [
        "szer_rozdz"
      ],
      "metadata": {
        "id": "UoRBJfHTQvQe",
        "colab": {
          "base_uri": "https://localhost:8080/",
          "height": 156
        },
        "outputId": "e072e9b4-b6a9-4bf0-c182-b1a9d481eda5"
      },
      "execution_count": 31,
      "outputs": [
        {
          "output_type": "display_data",
          "data": {
            "text/html": [
              "<style>\n",
              ".list-inline {list-style: none; margin:0; padding: 0}\n",
              ".list-inline>li {display: inline-block}\n",
              ".list-inline>li:not(:last-child)::after {content: \"\\00b7\"; padding: 0 .5ex}\n",
              "</style>\n",
              "<ol class=list-inline><li>&lt;NA&gt;</li><li>(20.8,20.85]</li><li>(21.15,21.2]</li><li>(21.5,21.55]</li><li>(21.2,21.25]</li><li>(21.4,21.45]</li><li>(21.35,21.4]</li><li>(21.35,21.4]</li><li>(21.45,21.5]</li><li>(21.2,21.25]</li><li>(21.2,21.25]</li><li>(21.35,21.4]</li><li>(21.3,21.35]</li><li>(21.45,21.5]</li><li>(21.45,21.5]</li><li>(21.5,21.55]</li><li>(21.6,21.65]</li><li>(21.45,21.5]</li><li>(21.45,21.5]</li><li>(21.45,21.5]</li><li>(21.45,21.5]</li><li>(21.4,21.45]</li><li>(21.4,21.45]</li><li>(21.3,21.35]</li><li>(21.45,21.5]</li><li>(21.45,21.5]</li><li>(21.5,21.55]</li><li>(21.7,21.75]</li><li>(21.6,21.65]</li><li>(21.65,21.7]</li><li>(21.65,21.7]</li><li>(21.7,21.75]</li><li>(21.7,21.75]</li><li>(21.65,21.7]</li><li>(21.7,21.75]</li><li>(21.7,21.75]</li><li>(21.65,21.7]</li><li>(21.8,21.85]</li><li>(21.9,21.95]</li><li>(21.8,21.85]</li><li>(21.35,21.4]</li><li>(21.6,21.65]</li><li>(21.7,21.75]</li><li>(21.75,21.8]</li><li>(21.65,21.7]</li><li>(21.75,21.8]</li><li>(21.65,21.7]</li><li>(21.7,21.75]</li><li>(21.8,21.85]</li><li>(21.7,21.75]</li><li>(21.8,21.85]</li><li>(21.6,21.65]</li><li>(21.6,21.65]</li><li>(21.55,21.6]</li><li>(21.5,21.55]</li><li>(21.5,21.55]</li><li>(21.6,21.65]</li><li>(21.6,21.65]</li><li>(21.6,21.65]</li><li>(21.4,21.45]</li><li>(21.65,21.7]</li><li>(21.9,21.95]</li><li>(22.1,22.15]</li><li>(21.85,21.9]</li><li>(22.9,22.95]</li><li>(22.1,22.15]</li><li>(21.95,22]</li><li>(21.8,21.85]</li><li>(21.8,21.85]</li><li>(21.9,21.95]</li><li>(21.7,21.75]</li><li>(21.75,21.8]</li><li>(21.7,21.75]</li></ol>\n",
              "\n",
              "<details>\n",
              "\t<summary style=display:list-item;cursor:pointer>\n",
              "\t\t<strong>Levels</strong>:\n",
              "\t</summary>\n",
              "\t<style>\n",
              "\t.list-inline {list-style: none; margin:0; padding: 0}\n",
              "\t.list-inline>li {display: inline-block}\n",
              "\t.list-inline>li:not(:last-child)::after {content: \"\\00b7\"; padding: 0 .5ex}\n",
              "\t</style>\n",
              "\t<ol class=list-inline><li>'(20.45,20.5]'</li><li>'(20.5,20.55]'</li><li>'(20.55,20.6]'</li><li>'(20.6,20.65]'</li><li>'(20.65,20.7]'</li><li>'(20.7,20.75]'</li><li>'(20.75,20.8]'</li><li>'(20.8,20.85]'</li><li>'(20.85,20.9]'</li><li>'(20.9,20.95]'</li><li>'(20.95,21]'</li><li>'(21,21.05]'</li><li>'(21.05,21.1]'</li><li>'(21.1,21.15]'</li><li>'(21.15,21.2]'</li><li>'(21.2,21.25]'</li><li>'(21.25,21.3]'</li><li>'(21.3,21.35]'</li><li>'(21.35,21.4]'</li><li>'(21.4,21.45]'</li><li>'(21.45,21.5]'</li><li>'(21.5,21.55]'</li><li>'(21.55,21.6]'</li><li>'(21.6,21.65]'</li><li>'(21.65,21.7]'</li><li>'(21.7,21.75]'</li><li>'(21.75,21.8]'</li><li>'(21.8,21.85]'</li><li>'(21.85,21.9]'</li><li>'(21.9,21.95]'</li><li>'(21.95,22]'</li><li>'(22,22.05]'</li><li>'(22.05,22.1]'</li><li>'(22.1,22.15]'</li><li>'(22.15,22.2]'</li><li>'(22.2,22.25]'</li><li>'(22.25,22.3]'</li><li>'(22.3,22.35]'</li><li>'(22.35,22.4]'</li><li>'(22.4,22.45]'</li><li>'(22.45,22.5]'</li><li>'(22.5,22.55]'</li><li>'(22.55,22.6]'</li><li>'(22.6,22.65]'</li><li>'(22.65,22.7]'</li><li>'(22.7,22.75]'</li><li>'(22.75,22.8]'</li><li>'(22.8,22.85]'</li><li>'(22.85,22.9]'</li><li>'(22.9,22.95]'</li></ol>\n",
              "</details>"
            ],
            "text/markdown": "1. &lt;NA&gt;\n2. (20.8,20.85]\n3. (21.15,21.2]\n4. (21.5,21.55]\n5. (21.2,21.25]\n6. (21.4,21.45]\n7. (21.35,21.4]\n8. (21.35,21.4]\n9. (21.45,21.5]\n10. (21.2,21.25]\n11. (21.2,21.25]\n12. (21.35,21.4]\n13. (21.3,21.35]\n14. (21.45,21.5]\n15. (21.45,21.5]\n16. (21.5,21.55]\n17. (21.6,21.65]\n18. (21.45,21.5]\n19. (21.45,21.5]\n20. (21.45,21.5]\n21. (21.45,21.5]\n22. (21.4,21.45]\n23. (21.4,21.45]\n24. (21.3,21.35]\n25. (21.45,21.5]\n26. (21.45,21.5]\n27. (21.5,21.55]\n28. (21.7,21.75]\n29. (21.6,21.65]\n30. (21.65,21.7]\n31. (21.65,21.7]\n32. (21.7,21.75]\n33. (21.7,21.75]\n34. (21.65,21.7]\n35. (21.7,21.75]\n36. (21.7,21.75]\n37. (21.65,21.7]\n38. (21.8,21.85]\n39. (21.9,21.95]\n40. (21.8,21.85]\n41. (21.35,21.4]\n42. (21.6,21.65]\n43. (21.7,21.75]\n44. (21.75,21.8]\n45. (21.65,21.7]\n46. (21.75,21.8]\n47. (21.65,21.7]\n48. (21.7,21.75]\n49. (21.8,21.85]\n50. (21.7,21.75]\n51. (21.8,21.85]\n52. (21.6,21.65]\n53. (21.6,21.65]\n54. (21.55,21.6]\n55. (21.5,21.55]\n56. (21.5,21.55]\n57. (21.6,21.65]\n58. (21.6,21.65]\n59. (21.6,21.65]\n60. (21.4,21.45]\n61. (21.65,21.7]\n62. (21.9,21.95]\n63. (22.1,22.15]\n64. (21.85,21.9]\n65. (22.9,22.95]\n66. (22.1,22.15]\n67. (21.95,22]\n68. (21.8,21.85]\n69. (21.8,21.85]\n70. (21.9,21.95]\n71. (21.7,21.75]\n72. (21.75,21.8]\n73. (21.7,21.75]\n\n\n\n**Levels**: 1. '(20.45,20.5]'\n2. '(20.5,20.55]'\n3. '(20.55,20.6]'\n4. '(20.6,20.65]'\n5. '(20.65,20.7]'\n6. '(20.7,20.75]'\n7. '(20.75,20.8]'\n8. '(20.8,20.85]'\n9. '(20.85,20.9]'\n10. '(20.9,20.95]'\n11. '(20.95,21]'\n12. '(21,21.05]'\n13. '(21.05,21.1]'\n14. '(21.1,21.15]'\n15. '(21.15,21.2]'\n16. '(21.2,21.25]'\n17. '(21.25,21.3]'\n18. '(21.3,21.35]'\n19. '(21.35,21.4]'\n20. '(21.4,21.45]'\n21. '(21.45,21.5]'\n22. '(21.5,21.55]'\n23. '(21.55,21.6]'\n24. '(21.6,21.65]'\n25. '(21.65,21.7]'\n26. '(21.7,21.75]'\n27. '(21.75,21.8]'\n28. '(21.8,21.85]'\n29. '(21.85,21.9]'\n30. '(21.9,21.95]'\n31. '(21.95,22]'\n32. '(22,22.05]'\n33. '(22.05,22.1]'\n34. '(22.1,22.15]'\n35. '(22.15,22.2]'\n36. '(22.2,22.25]'\n37. '(22.25,22.3]'\n38. '(22.3,22.35]'\n39. '(22.35,22.4]'\n40. '(22.4,22.45]'\n41. '(22.45,22.5]'\n42. '(22.5,22.55]'\n43. '(22.55,22.6]'\n44. '(22.6,22.65]'\n45. '(22.65,22.7]'\n46. '(22.7,22.75]'\n47. '(22.75,22.8]'\n48. '(22.8,22.85]'\n49. '(22.85,22.9]'\n50. '(22.9,22.95]'\n\n\n",
            "text/latex": "\\begin{enumerate*}\n\\item <NA>\n\\item (20.8,20.85{]}\n\\item (21.15,21.2{]}\n\\item (21.5,21.55{]}\n\\item (21.2,21.25{]}\n\\item (21.4,21.45{]}\n\\item (21.35,21.4{]}\n\\item (21.35,21.4{]}\n\\item (21.45,21.5{]}\n\\item (21.2,21.25{]}\n\\item (21.2,21.25{]}\n\\item (21.35,21.4{]}\n\\item (21.3,21.35{]}\n\\item (21.45,21.5{]}\n\\item (21.45,21.5{]}\n\\item (21.5,21.55{]}\n\\item (21.6,21.65{]}\n\\item (21.45,21.5{]}\n\\item (21.45,21.5{]}\n\\item (21.45,21.5{]}\n\\item (21.45,21.5{]}\n\\item (21.4,21.45{]}\n\\item (21.4,21.45{]}\n\\item (21.3,21.35{]}\n\\item (21.45,21.5{]}\n\\item (21.45,21.5{]}\n\\item (21.5,21.55{]}\n\\item (21.7,21.75{]}\n\\item (21.6,21.65{]}\n\\item (21.65,21.7{]}\n\\item (21.65,21.7{]}\n\\item (21.7,21.75{]}\n\\item (21.7,21.75{]}\n\\item (21.65,21.7{]}\n\\item (21.7,21.75{]}\n\\item (21.7,21.75{]}\n\\item (21.65,21.7{]}\n\\item (21.8,21.85{]}\n\\item (21.9,21.95{]}\n\\item (21.8,21.85{]}\n\\item (21.35,21.4{]}\n\\item (21.6,21.65{]}\n\\item (21.7,21.75{]}\n\\item (21.75,21.8{]}\n\\item (21.65,21.7{]}\n\\item (21.75,21.8{]}\n\\item (21.65,21.7{]}\n\\item (21.7,21.75{]}\n\\item (21.8,21.85{]}\n\\item (21.7,21.75{]}\n\\item (21.8,21.85{]}\n\\item (21.6,21.65{]}\n\\item (21.6,21.65{]}\n\\item (21.55,21.6{]}\n\\item (21.5,21.55{]}\n\\item (21.5,21.55{]}\n\\item (21.6,21.65{]}\n\\item (21.6,21.65{]}\n\\item (21.6,21.65{]}\n\\item (21.4,21.45{]}\n\\item (21.65,21.7{]}\n\\item (21.9,21.95{]}\n\\item (22.1,22.15{]}\n\\item (21.85,21.9{]}\n\\item (22.9,22.95{]}\n\\item (22.1,22.15{]}\n\\item (21.95,22{]}\n\\item (21.8,21.85{]}\n\\item (21.8,21.85{]}\n\\item (21.9,21.95{]}\n\\item (21.7,21.75{]}\n\\item (21.75,21.8{]}\n\\item (21.7,21.75{]}\n\\end{enumerate*}\n\n\\emph{Levels}: \\begin{enumerate*}\n\\item '(20.45,20.5{]}'\n\\item '(20.5,20.55{]}'\n\\item '(20.55,20.6{]}'\n\\item '(20.6,20.65{]}'\n\\item '(20.65,20.7{]}'\n\\item '(20.7,20.75{]}'\n\\item '(20.75,20.8{]}'\n\\item '(20.8,20.85{]}'\n\\item '(20.85,20.9{]}'\n\\item '(20.9,20.95{]}'\n\\item '(20.95,21{]}'\n\\item '(21,21.05{]}'\n\\item '(21.05,21.1{]}'\n\\item '(21.1,21.15{]}'\n\\item '(21.15,21.2{]}'\n\\item '(21.2,21.25{]}'\n\\item '(21.25,21.3{]}'\n\\item '(21.3,21.35{]}'\n\\item '(21.35,21.4{]}'\n\\item '(21.4,21.45{]}'\n\\item '(21.45,21.5{]}'\n\\item '(21.5,21.55{]}'\n\\item '(21.55,21.6{]}'\n\\item '(21.6,21.65{]}'\n\\item '(21.65,21.7{]}'\n\\item '(21.7,21.75{]}'\n\\item '(21.75,21.8{]}'\n\\item '(21.8,21.85{]}'\n\\item '(21.85,21.9{]}'\n\\item '(21.9,21.95{]}'\n\\item '(21.95,22{]}'\n\\item '(22,22.05{]}'\n\\item '(22.05,22.1{]}'\n\\item '(22.1,22.15{]}'\n\\item '(22.15,22.2{]}'\n\\item '(22.2,22.25{]}'\n\\item '(22.25,22.3{]}'\n\\item '(22.3,22.35{]}'\n\\item '(22.35,22.4{]}'\n\\item '(22.4,22.45{]}'\n\\item '(22.45,22.5{]}'\n\\item '(22.5,22.55{]}'\n\\item '(22.55,22.6{]}'\n\\item '(22.6,22.65{]}'\n\\item '(22.65,22.7{]}'\n\\item '(22.7,22.75{]}'\n\\item '(22.75,22.8{]}'\n\\item '(22.8,22.85{]}'\n\\item '(22.85,22.9{]}'\n\\item '(22.9,22.95{]}'\n\\end{enumerate*}\n",
            "text/plain": [
              " [1] <NA>         (20.8,20.85] (21.15,21.2] (21.5,21.55] (21.2,21.25]\n",
              " [6] (21.4,21.45] (21.35,21.4] (21.35,21.4] (21.45,21.5] (21.2,21.25]\n",
              "[11] (21.2,21.25] (21.35,21.4] (21.3,21.35] (21.45,21.5] (21.45,21.5]\n",
              "[16] (21.5,21.55] (21.6,21.65] (21.45,21.5] (21.45,21.5] (21.45,21.5]\n",
              "[21] (21.45,21.5] (21.4,21.45] (21.4,21.45] (21.3,21.35] (21.45,21.5]\n",
              "[26] (21.45,21.5] (21.5,21.55] (21.7,21.75] (21.6,21.65] (21.65,21.7]\n",
              "[31] (21.65,21.7] (21.7,21.75] (21.7,21.75] (21.65,21.7] (21.7,21.75]\n",
              "[36] (21.7,21.75] (21.65,21.7] (21.8,21.85] (21.9,21.95] (21.8,21.85]\n",
              "[41] (21.35,21.4] (21.6,21.65] (21.7,21.75] (21.75,21.8] (21.65,21.7]\n",
              "[46] (21.75,21.8] (21.65,21.7] (21.7,21.75] (21.8,21.85] (21.7,21.75]\n",
              "[51] (21.8,21.85] (21.6,21.65] (21.6,21.65] (21.55,21.6] (21.5,21.55]\n",
              "[56] (21.5,21.55] (21.6,21.65] (21.6,21.65] (21.6,21.65] (21.4,21.45]\n",
              "[61] (21.65,21.7] (21.9,21.95] (22.1,22.15] (21.85,21.9] (22.9,22.95]\n",
              "[66] (22.1,22.15] (21.95,22]   (21.8,21.85] (21.8,21.85] (21.9,21.95]\n",
              "[71] (21.7,21.75] (21.75,21.8] (21.7,21.75]\n",
              "50 Levels: (20.45,20.5] (20.5,20.55] (20.55,20.6] (20.6,20.65] ... (22.9,22.95]"
            ]
          },
          "metadata": {}
        }
      ]
    },
    {
      "cell_type": "markdown",
      "source": [
        "## Zadanie 4"
      ],
      "metadata": {
        "id": "TO3mw7oSQ0DX"
      }
    },
    {
      "cell_type": "code",
      "source": [
        "licznosci_klas <- table(szer_rozdz)"
      ],
      "metadata": {
        "id": "vdgwuesnQ1b0"
      },
      "execution_count": 32,
      "outputs": []
    },
    {
      "cell_type": "code",
      "source": [
        "licznosci_klas"
      ],
      "metadata": {
        "id": "bi4uOnC0Q28E",
        "colab": {
          "base_uri": "https://localhost:8080/",
          "height": 356
        },
        "outputId": "50f12bff-c78b-4de1-d74f-18bf9fa93a7e"
      },
      "execution_count": 33,
      "outputs": [
        {
          "output_type": "display_data",
          "data": {
            "text/plain": [
              "szer_rozdz\n",
              "(20.45,20.5] (20.5,20.55] (20.55,20.6] (20.6,20.65] (20.65,20.7] (20.7,20.75] \n",
              "           0            0            0            0            0            0 \n",
              "(20.75,20.8] (20.8,20.85] (20.85,20.9] (20.9,20.95]   (20.95,21]   (21,21.05] \n",
              "           0            1            0            0            0            0 \n",
              "(21.05,21.1] (21.1,21.15] (21.15,21.2] (21.2,21.25] (21.25,21.3] (21.3,21.35] \n",
              "           0            0            1            3            0            2 \n",
              "(21.35,21.4] (21.4,21.45] (21.45,21.5] (21.5,21.55] (21.55,21.6] (21.6,21.65] \n",
              "           4            4            9            5            1            8 \n",
              "(21.65,21.7] (21.7,21.75] (21.75,21.8] (21.8,21.85] (21.85,21.9] (21.9,21.95] \n",
              "           7           10            3            6            1            3 \n",
              "  (21.95,22]   (22,22.05] (22.05,22.1] (22.1,22.15] (22.15,22.2] (22.2,22.25] \n",
              "           1            0            0            2            0            0 \n",
              "(22.25,22.3] (22.3,22.35] (22.35,22.4] (22.4,22.45] (22.45,22.5] (22.5,22.55] \n",
              "           0            0            0            0            0            0 \n",
              "(22.55,22.6] (22.6,22.65] (22.65,22.7] (22.7,22.75] (22.75,22.8] (22.8,22.85] \n",
              "           0            0            0            0            0            0 \n",
              "(22.85,22.9] (22.9,22.95] \n",
              "           0            1 "
            ]
          },
          "metadata": {}
        }
      ]
    },
    {
      "cell_type": "markdown",
      "source": [
        "## Zadanie 5"
      ],
      "metadata": {
        "id": "NZCUz4rxQ5z6"
      }
    },
    {
      "cell_type": "code",
      "source": [
        "barplot(licznosci_klas)\n",
        "hist(dane$`Długość`, breaks = k, col = \"blue\", main = \"Histogram\")"
      ],
      "metadata": {
        "id": "heLizvHEQ7oU",
        "colab": {
          "base_uri": "https://localhost:8080/",
          "height": 857
        },
        "outputId": "1fcd036f-4e7b-44d5-cb50-a29b7836c3e6"
      },
      "execution_count": 35,
      "outputs": [
        {
          "output_type": "display_data",
          "data": {
            "text/plain": [
              "plot without title"
            ],
            "image/png": "[encoded data removed]"
          },
          "metadata": {
            "image/png": {
              "width": 420,
              "height": 420
            }
          }
        },
        {
          "output_type": "display_data",
          "data": {
            "text/plain": [
              "Plot with title “Histogram”"
            ],
            "image/png": "[encoded data removed]"
          },
          "metadata": {
            "image/png": {
              "width": 420,
              "height": 420
            }
          }
        }
      ]
    },
    {
      "cell_type": "markdown",
      "source": [
        "## Zadanie 6"
      ],
      "metadata": {
        "id": "v850hQKJQ-FN"
      }
    },
    {
      "cell_type": "code",
      "source": [
        "shapiro.test(dane$`Długość`)"
      ],
      "metadata": {
        "id": "gPdBnwBxQ_RJ",
        "colab": {
          "base_uri": "https://localhost:8080/",
          "height": 106
        },
        "outputId": "f3ef8ade-018e-4d75-8c77-1bde5430226d"
      },
      "execution_count": 37,
      "outputs": [
        {
          "output_type": "display_data",
          "data": {
            "text/plain": [
              "\n",
              "\tShapiro-Wilk normality test\n",
              "\n",
              "data:  dane$Długość\n",
              "W = 0.88232, p-value = 5.649e-06\n"
            ]
          },
          "metadata": {}
        }
      ]
    },
    {
      "cell_type": "markdown",
      "source": [
        "## Zadanie 7\n"
      ],
      "metadata": {
        "id": "1ydjX2DHRQTM"
      }
    },
    {
      "cell_type": "markdown",
      "source": [
        "W tym przypadku pochodzącym z prowadzonych pomiarów , p-value jest mniejsze od poziomu istotności (0,05), \n",
        "więc hipoteza zerowa jest odrzucona i możemy stwierdzić, że dane nie pochodzą z rozkładu normalnego."
      ],
      "metadata": {
        "id": "HcYOdqBNNfj5"
      }
    },
    {
      "cell_type": "markdown",
      "source": [],
      "metadata": {
        "id": "jsmA9fvVQtwg"
      }
    }
  ]
}